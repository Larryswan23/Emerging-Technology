{
 "cells": [
  {
   "cell_type": "markdown",
   "id": "ebd47730",
   "metadata": {},
   "source": [
    "# Deutsch's Algorithm\n",
    "\n",
    "In this notebook, we will explore Deutsch's Algorithm, a foundational quantum algorithm that highlights the potential advantages of quantum computing over classical computing. We will cover the following steps:\n",
    "\n",
    "1. Overview of all possible single-bit functions.\n",
    "2. Implementation of these functions in Python.\n",
    "3. A function to randomly select one of these single-bit functions.\n",
    "4. Explanation of the problem that Deutsch’s algorithm solves.\n",
    "5. Classical solution to Deutsch’s problem.\n",
    "6. Quantum solution using Qiskit.\n"
   ]
  },
  {
   "cell_type": "code",
   "execution_count": 2,
   "id": "a2f9d9c8",
   "metadata": {},
   "outputs": [
    {
     "name": "stdout",
     "output_type": "stream",
     "text": [
      "Constant Zero:\n",
      "f(0) = 0, f(1) = 0\n",
      "\n",
      "Constant One:\n",
      "f(0) = 1, f(1) = 1\n",
      "\n",
      "Identity:\n",
      "f(0) = 0, f(1) = 1\n",
      "\n",
      "Negation:\n",
      "f(0) = 1, f(1) = 0\n"
     ]
    }
   ],
   "source": [
    "# 1. Overview of Possible Single-Bit Functions\n",
    "\n",
    "# Define the single-bit functions\n",
    "\n",
    "def constant_zero(x):\n",
    "    \"\"\"Function that always returns 0.\"\"\"\n",
    "    return 0\n",
    "\n",
    "def constant_one(x):\n",
    "    \"\"\"Function that always returns 1.\"\"\"\n",
    "    return 1\n",
    "\n",
    "def identity(x):\n",
    "    \"\"\"Function that returns the input bit as is.\"\"\"\n",
    "    return x\n",
    "\n",
    "def negation(x):\n",
    "    \"\"\"Function that returns the negation of the input bit.\"\"\"\n",
    "    return 1 - x\n",
    "\n",
    "# Demonstrate the usage of each function\n",
    "print(\"Constant Zero:\")\n",
    "print(f\"f(0) = {constant_zero(0)}, f(1) = {constant_zero(1)}\")\n",
    "\n",
    "print(\"\\nConstant One:\")\n",
    "print(f\"f(0) = {constant_one(0)}, f(1) = {constant_one(1)}\")\n",
    "\n",
    "print(\"\\nIdentity:\")\n",
    "print(f\"f(0) = {identity(0)}, f(1) = {identity(1)}\")\n",
    "\n",
    "print(\"\\nNegation:\")\n",
    "print(f\"f(0) = {negation(0)}, f(1) = {negation(1)}\")\n"
   ]
  },
  {
   "cell_type": "code",
   "execution_count": 3,
   "id": "25e443aa",
   "metadata": {},
   "outputs": [
    {
     "name": "stdout",
     "output_type": "stream",
     "text": [
      "Selected function: negation\n",
      "f(0) = 1, f(1) = 0\n"
     ]
    }
   ],
   "source": [
    "# 2. Random Selection Function\n",
    "\n",
    "import random\n",
    "\n",
    "def random_single_bit_function():\n",
    "    \"\"\"Randomly select and return one of the single-bit functions.\"\"\"\n",
    "    functions = [constant_zero, constant_one, identity, negation]\n",
    "    return random.choice(functions)\n",
    "\n",
    "# Demonstrate random selection of a function\n",
    "selected_function = random_single_bit_function()\n",
    "print(f\"Selected function: {selected_function.__name__}\")\n",
    "\n",
    "# Test the selected function\n",
    "print(f\"f(0) = {selected_function(0)}, f(1) = {selected_function(1)}\")\n"
   ]
  },
  {
   "cell_type": "markdown",
   "id": "2eafeaf8",
   "metadata": {},
   "source": [
    "# 3. Explanation of Deutsch’s Algorithm\n",
    "\n",
    "Deutsch’s Algorithm is one of the simplest quantum algorithms, designed to demonstrate the power of quantum computation over classical computation. It addresses the following problem:\n",
    "\n",
    "- **Problem**: Given a function `f` that takes a single bit as input and returns a single bit as output, determine whether `f` is a constant function (always returns the same value) or a balanced function (returns 0 for one input and 1 for the other).\n",
    "\n",
    "Classically, solving this problem requires two evaluations of `f` (one for each input). However, Deutsch's algorithm can solve this problem with a single evaluation using a quantum computer, showcasing quantum parallelism and interference.\n"
   ]
  },
  {
   "cell_type": "code",
   "execution_count": 4,
   "id": "3144f976",
   "metadata": {},
   "outputs": [
    {
     "name": "stdout",
     "output_type": "stream",
     "text": [
      "Selected function: constant_one\n",
      "Is the function constant? Yes\n"
     ]
    }
   ],
   "source": [
    "# 4. Classical Solution to Deutsch’s Problem\n",
    "\n",
    "def is_constant_classical(f):\n",
    "    \"\"\"Determine if the function f is constant or balanced using a classical approach.\"\"\"\n",
    "    return f(0) == f(1)\n",
    "\n",
    "# Test the classical solution with a randomly selected function\n",
    "selected_function = random_single_bit_function()\n",
    "constant = is_constant_classical(selected_function)\n",
    "\n",
    "print(f\"Selected function: {selected_function.__name__}\")\n",
    "print(f\"Is the function constant? {'Yes' if constant else 'No'}\")\n"
   ]
  },
  {
   "cell_type": "code",
   "execution_count": 5,
   "id": "e27fa9f2",
   "metadata": {},
   "outputs": [
    {
     "name": "stdout",
     "output_type": "stream",
     "text": [
      "Selected function: constant_function\n",
      "Measurement results: {'0': 1024}\n",
      "The function is constant.\n"
     ]
    }
   ],
   "source": [
    "# 5. Quantum Solution with Qiskit\n",
    "\n",
    "import random\n",
    "from qiskit import QuantumCircuit, BasicAer, execute\n",
    "\n",
    "def deutsch_algorithm(f):\n",
    "    # Create a quantum circuit with 2 qubits and 1 classical bit\n",
    "    qc = QuantumCircuit(2, 1)\n",
    "\n",
    "    # Initialize qubits\n",
    "    qc.x(1)\n",
    "    qc.h([0, 1])\n",
    "\n",
    "    # Apply the function f (represented as a quantum gate)\n",
    "    f(qc)\n",
    "\n",
    "    # Apply Hadamard gate to the first qubit\n",
    "    qc.h(0)\n",
    "\n",
    "    # Measure the first qubit\n",
    "    qc.measure(0, 0)\n",
    "\n",
    "    # Execute the circuit on the BasicAer simulator\n",
    "    simulator = BasicAer.get_backend('qasm_simulator')\n",
    "    result = execute(qc, simulator, shots=1024).result()\n",
    "\n",
    "    # Get the counts (measurement results)\n",
    "    counts = result.get_counts(qc)\n",
    "    return counts\n",
    "\n",
    "def constant_function(qc):\n",
    "    # This represents a constant function, which does nothing to the qubits\n",
    "    pass\n",
    "\n",
    "def balanced_function(qc):\n",
    "    # This represents a balanced function, which applies a CNOT gate\n",
    "    qc.cx(0, 1)\n",
    "\n",
    "def random_single_bit_function():\n",
    "    return random.choice([constant_function, balanced_function])\n",
    "\n",
    "# Use the modified code to select and test the function\n",
    "selected_function = random_single_bit_function()\n",
    "print(f\"Selected function: {selected_function.__name__}\")\n",
    "counts = deutsch_algorithm(selected_function)\n",
    "print(\"Measurement results:\", counts)\n",
    "\n",
    "# Determine if the function is constant or balanced\n",
    "if '0' in counts and counts['0'] > 512:\n",
    "    print(\"The function is constant.\")\n",
    "else:\n",
    "    print(\"The function is balanced.\")\n"
   ]
  },
  {
   "cell_type": "markdown",
   "id": "0a4755c4",
   "metadata": {},
   "source": [
    "### Explanation of the Process\n",
    "\n",
    "#### 1. Overview of Possible Single-Bit Functions\n",
    "\n",
    "In this section, we explored all possible single-bit functions. A single-bit function takes a bit (0 or 1) as input and produces a bit as output. The four possible functions are:\n",
    "- **Constant Zero**: Always returns 0, regardless of the input.\n",
    "- **Constant One**: Always returns 1, regardless of the input.\n",
    "- **Identity**: Returns the input bit unchanged.\n",
    "- **Negation**: Returns the opposite of the input bit.\n",
    "\n",
    "These functions form the foundation of the problem Deutsch's algorithm aims to solve, which is to distinguish between constant functions (those that return the same value for both inputs) and balanced functions (those that return different values for each input).\n",
    "\n",
    "#### 2. Random Selection Function\n",
    "\n",
    "We introduced a function that randomly selects one of the four possible single-bit functions. This is a crucial step because it simulates the situation where we don't know which function we're dealing with. The goal of the algorithm is to determine whether the selected function is constant or balanced.\n",
    "\n",
    "#### 3. Explanation of Deutsch’s Algorithm\n",
    "\n",
    "Deutsch's Algorithm addresses a specific problem: given a function that takes a single bit as input, determine whether the function is constant or balanced. \n",
    "\n",
    "Classically, solving this problem requires evaluating the function for both inputs (0 and 1). However, Deutsch's algorithm allows us to determine the nature of the function with only one evaluation using a quantum computer. This is made possible by the quantum principles of superposition and interference.\n",
    "\n",
    "#### 4. Classical Solution to Deutsch’s Problem\n",
    "\n",
    "The classical solution involves evaluating the function twice: once with input 0 and once with input 1. If the outputs are the same, the function is constant. If the outputs are different, the function is balanced. This method works, but it highlights the limitation of classical computation in solving this problem efficiently.\n",
    "\n",
    "#### 5. Quantum Solution with Qiskit\n",
    "\n",
    "In the quantum solution, we use Qiskit to implement Deutsch's Algorithm. The process involves creating a quantum circuit with two qubits and one classical bit. The qubits are initialized in a superposition state, allowing the function to be evaluated on both inputs simultaneously.\n",
    "\n",
    "The function is applied as a quantum gate, and after some quantum operations, the circuit measures the qubit to determine whether the function is constant or balanced. This approach leverages quantum parallelism, meaning the function can be evaluated with only one query, significantly reducing the computational effort compared to the classical method.\n",
    "\n",
    "### Why This Matters\n",
    "\n",
    "Deutsch's Algorithm is a simple yet powerful demonstration of how quantum computing can outperform classical computing for certain types of problems. While the problem itself is relatively straightforward, the quantum solution showcases the potential of quantum algorithms to solve complex problems more efficiently than classical algorithms. This fundamental concept is the foundation of more advanced quantum algorithms that can tackle real-world challenges.\n"
   ]
  },
  {
   "cell_type": "code",
   "execution_count": null,
   "id": "141e0b7f",
   "metadata": {},
   "outputs": [],
   "source": []
  }
 ],
 "metadata": {
  "kernelspec": {
   "display_name": "Python 3 (ipykernel)",
   "language": "python",
   "name": "python3"
  },
  "language_info": {
   "codemirror_mode": {
    "name": "ipython",
    "version": 3
   },
   "file_extension": ".py",
   "mimetype": "text/x-python",
   "name": "python",
   "nbconvert_exporter": "python",
   "pygments_lexer": "ipython3",
   "version": "3.11.4"
  }
 },
 "nbformat": 4,
 "nbformat_minor": 5
}
