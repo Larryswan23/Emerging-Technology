{
 "cells": [
  {
   "cell_type": "markdown",
   "id": "d0547669",
   "metadata": {},
   "source": [
    "# Deutsch's Algorithm\n",
    "\n",
    "In this notebook, we will explore Deutsch's Algorithm, a simple quantum algorithm that demonstrates the power of quantum computation over classical computation. We will cover the following steps:\n",
    "\n",
    "1. Overview of all possible single-bit functions.\n",
    "2. Implementation of these functions in Python.\n",
    "3. A function to randomly select one of these single-bit functions.\n",
    "4. Explanation of the problem that Deutsch’s algorithm solves.\n",
    "5. Classical solution to Deutsch’s problem.\n",
    "6. Quantum solution using Qiskit.\n",
    "\n",
    "## 1. Overview of Possible Single-Bit Functions\n",
    "\n",
    "In this section, we will explore all possible functions that take a single bit as input and return a single bit as output. Since a bit can be either 0 or 1, there are 4 possible mappings:\n",
    "\n",
    "1. `f(0) = 0`, `f(1) = 0` (Constant Function - Zero)\n",
    "2. `f(0) = 1`, `f(1) = 1` (Constant Function - One)\n",
    "3. `f(0) = 0`, `f(1) = 1` (Identity Function)\n",
    "4. `f(0) = 1`, `f(1) = 0` (Negation Function)\n",
    "\n",
    "We will implement each of these functions in Python and demonstrate their usage.\n"
   ]
  },
  {
   "cell_type": "code",
   "execution_count": 1,
   "id": "0e33d2a2",
   "metadata": {},
   "outputs": [
    {
     "name": "stdout",
     "output_type": "stream",
     "text": [
      "Constant Zero:\n",
      "f(0) = 0, f(1) = 0\n",
      "\n",
      "Constant One:\n",
      "f(0) = 1, f(1) = 1\n",
      "\n",
      "Identity:\n",
      "f(0) = 0, f(1) = 1\n",
      "\n",
      "Negation:\n",
      "f(0) = 1, f(1) = 0\n"
     ]
    }
   ],
   "source": [
    "# Define the single-bit functions\n",
    "\n",
    "def constant_zero(x):\n",
    "    \"\"\"Function that always returns 0.\"\"\"\n",
    "    return 0\n",
    "\n",
    "def constant_one(x):\n",
    "    \"\"\"Function that always returns 1.\"\"\"\n",
    "    return 1\n",
    "\n",
    "def identity(x):\n",
    "    \"\"\"Function that returns the input bit as is.\"\"\"\n",
    "    return x\n",
    "\n",
    "def negation(x):\n",
    "    \"\"\"Function that returns the negation of the input bit.\"\"\"\n",
    "    return 1 - x\n",
    "\n",
    "# Demonstrate the usage of each function\n",
    "print(\"Constant Zero:\")\n",
    "print(f\"f(0) = {constant_zero(0)}, f(1) = {constant_zero(1)}\")\n",
    "\n",
    "print(\"\\nConstant One:\")\n",
    "print(f\"f(0) = {constant_one(0)}, f(1) = {constant_one(1)}\")\n",
    "\n",
    "print(\"\\nIdentity:\")\n",
    "print(f\"f(0) = {identity(0)}, f(1) = {identity(1)}\")\n",
    "\n",
    "print(\"\\nNegation:\")\n",
    "print(f\"f(0) = {negation(0)}, f(1) = {negation(1)}\")\n"
   ]
  },
  {
   "cell_type": "markdown",
   "id": "e8f173bf",
   "metadata": {},
   "source": [
    "## 2. Random Selection Function\n",
    "\n",
    "Next, we will implement a Python function that selects one of the above single-bit functions at random and returns it. This function can then be used to demonstrate the problem that Deutsch's algorithm solves.\n"
   ]
  },
  {
   "cell_type": "code",
   "execution_count": 2,
   "id": "4056952e",
   "metadata": {},
   "outputs": [
    {
     "name": "stdout",
     "output_type": "stream",
     "text": [
      "Selected function: constant_zero\n",
      "f(0) = 0, f(1) = 0\n"
     ]
    }
   ],
   "source": [
    "import random\n",
    "\n",
    "def random_single_bit_function():\n",
    "    \"\"\"Randomly select and return one of the single-bit functions.\"\"\"\n",
    "    functions = [constant_zero, constant_one, identity, negation]\n",
    "    return random.choice(functions)\n",
    "\n",
    "# Demonstrate random selection of a function\n",
    "selected_function = random_single_bit_function()\n",
    "print(f\"Selected function: {selected_function.__name__}\")\n",
    "\n",
    "# Test the selected function\n",
    "print(f\"f(0) = {selected_function(0)}, f(1) = {selected_function(1)}\")\n"
   ]
  },
  {
   "cell_type": "markdown",
   "id": "3df333fd",
   "metadata": {},
   "source": [
    "## 3. Explanation of Deutsch’s Algorithm\n",
    "\n",
    "Deutsch’s algorithm is one of the simplest quantum algorithms, designed to demonstrate the power of quantum computation over classical computation. It addresses the following problem:\n",
    "\n",
    "Given a function `f` that takes a single bit as input and returns a single bit as output, determine whether `f` is a constant function (always returns the same value) or a balanced function (returns 0 for one input and 1 for the other).\n",
    "\n",
    "Classically, solving this problem requires two evaluations of `f` (one for each input). Deutsch's algorithm, however, can solve this problem with a single evaluation using a quantum computer, showcasing quantum parallelism and interference.\n"
   ]
  },
  {
   "cell_type": "markdown",
   "id": "d2352e36",
   "metadata": {},
   "source": [
    "## 4. Classical Solution to Deutsch’s Problem\n",
    "\n",
    "In this section, we will demonstrate how to solve the problem of determining whether a given single-bit function is constant or balanced using a classical approach.\n"
   ]
  },
  {
   "cell_type": "code",
   "execution_count": 3,
   "id": "a1e74d27",
   "metadata": {},
   "outputs": [
    {
     "name": "stdout",
     "output_type": "stream",
     "text": [
      "Selected function: constant_zero\n",
      "Is the function constant? Yes\n"
     ]
    }
   ],
   "source": [
    "def is_constant_classical(f):\n",
    "    \"\"\"Determine if the function f is constant or balanced using a classical approach.\"\"\"\n",
    "    return f(0) == f(1)\n",
    "\n",
    "# Test the classical solution with a randomly selected function\n",
    "selected_function = random_single_bit_function()\n",
    "constant = is_constant_classical(selected_function)\n",
    "\n",
    "print(f\"Selected function: {selected_function.__name__}\")\n",
    "print(f\"Is the function constant? {'Yes' if constant else 'No'}\")\n"
   ]
  },
  {
   "cell_type": "markdown",
   "id": "7948a29a",
   "metadata": {},
   "source": [
    "## 5. Quantum Solution with Qiskit\n",
    "\n",
    "In this section, we will construct a quantum circuit using the Qiskit library to implement Deutsch’s algorithm. The quantum circuit will determine whether a given function is constant or balanced with a single evaluation.\n"
   ]
  },
  {
   "cell_type": "code",
   "execution_count": 9,
   "id": "1b41a155",
   "metadata": {},
   "outputs": [
    {
     "name": "stdout",
     "output_type": "stream",
     "text": [
      "Selected function: constant_function\n",
      "Measurement results: {'0': 1024}\n",
      "The function is constant.\n"
     ]
    }
   ],
   "source": [
    "import random\n",
    "from qiskit import QuantumCircuit, BasicAer, execute\n",
    "\n",
    "def deutsch_algorithm(f):\n",
    "    # Create a quantum circuit with 2 qubits and 1 classical bit\n",
    "    qc = QuantumCircuit(2, 1)\n",
    "\n",
    "    # Initialize qubits\n",
    "    qc.x(1)\n",
    "    qc.h([0, 1])\n",
    "\n",
    "    # Apply the function f (represented as a quantum gate)\n",
    "    f(qc)\n",
    "\n",
    "    # Apply Hadamard gate to the first qubit\n",
    "    qc.h(0)\n",
    "\n",
    "    # Measure the first qubit\n",
    "    qc.measure(0, 0)\n",
    "\n",
    "    # Execute the circuit on the BasicAer simulator\n",
    "    simulator = BasicAer.get_backend('qasm_simulator')\n",
    "    result = execute(qc, simulator, shots=1024).result()\n",
    "\n",
    "    # Get the counts (measurement results)\n",
    "    counts = result.get_counts(qc)\n",
    "    return counts\n",
    "\n",
    "def constant_function(qc):\n",
    "    # This represents a constant function, which does nothing to the qubits\n",
    "    pass\n",
    "\n",
    "def balanced_function(qc):\n",
    "    # This represents a balanced function, which applies a CNOT gate\n",
    "    qc.cx(0, 1)\n",
    "\n",
    "def random_single_bit_function():\n",
    "    return random.choice([constant_function, balanced_function])\n",
    "\n",
    "# Use the modified code to select and test the function\n",
    "selected_function = random_single_bit_function()\n",
    "print(f\"Selected function: {selected_function.__name__}\")\n",
    "counts = deutsch_algorithm(selected_function)\n",
    "print(\"Measurement results:\", counts)\n",
    "\n",
    "# Determine if the function is constant or balanced\n",
    "if '0' in counts and counts['0'] > 512:\n",
    "    print(\"The function is constant.\")\n",
    "else:\n",
    "    print(\"The function is balanced.\")\n"
   ]
  },
  {
   "cell_type": "code",
   "execution_count": null,
   "id": "f1597245",
   "metadata": {},
   "outputs": [],
   "source": []
  }
 ],
 "metadata": {
  "kernelspec": {
   "display_name": "Python 3 (ipykernel)",
   "language": "python",
   "name": "python3"
  },
  "language_info": {
   "codemirror_mode": {
    "name": "ipython",
    "version": 3
   },
   "file_extension": ".py",
   "mimetype": "text/x-python",
   "name": "python",
   "nbconvert_exporter": "python",
   "pygments_lexer": "ipython3",
   "version": "3.11.4"
  }
 },
 "nbformat": 4,
 "nbformat_minor": 5
}
